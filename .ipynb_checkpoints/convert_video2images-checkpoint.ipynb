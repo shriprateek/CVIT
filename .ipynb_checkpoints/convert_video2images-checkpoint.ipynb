{
 "cells": [
  {
   "cell_type": "code",
   "execution_count": 45,
   "metadata": {},
   "outputs": [],
   "source": [
    "import os\n",
    "import cv2"
   ]
  },
  {
   "cell_type": "code",
   "execution_count": 59,
   "metadata": {},
   "outputs": [],
   "source": [
    "def extractImages(pathIn, pathOut):\n",
    "    vidcap = cv2.VideoCapture(pathIn)\n",
    "    success,image = vidcap.read()\n",
    "    success = True\n",
    "    n_frames = vidcap.get(cv2.CAP_PROP_FRAME_COUNT) #24FPS\n",
    "    counter =1\n",
    "    prev_counter = counter\n",
    "    counter_err = 0\n",
    "    while counter <= n_frames:\n",
    "        print('Writing frame num {}'.format(counter))\n",
    "        frame_num = 12*counter\n",
    "        prev_counter = counter\n",
    "        extracted_frame_loc = os.path.join(pathOut,'frame'+str(counter)+'.jpg')\n",
    "        vidcap.set(cv2.CAP_PROP_POS_FRAMES,frame_num)    # added this line \n",
    "        success,image = vidcap.read()\n",
    "        if success or counter_err > 2:\n",
    "            counter+=1\n",
    "            counter_err =0\n",
    "        else:\n",
    "            counter = counter\n",
    "        if prev_counter == counter:\n",
    "            counter_err+=1\n",
    "        cv2.imwrite(extracted_frame_loc, image)     # save frame as JPEG file\n"
   ]
  },
  {
   "cell_type": "code",
   "execution_count": 60,
   "metadata": {},
   "outputs": [
    {
     "name": "stdout",
     "output_type": "stream",
     "text": [
      "True 2 0\n",
      "False 2 1\n",
      "False 2 2\n",
      "False 2 3\n",
      "False 3 0\n",
      "False 3 1\n",
      "False 3 2\n",
      "False 3 3\n"
     ]
    },
    {
     "ename": "KeyboardInterrupt",
     "evalue": "",
     "output_type": "error",
     "traceback": [
      "\u001b[0;31m---------------------------------------------------------------------------\u001b[0m",
      "\u001b[0;31mKeyboardInterrupt\u001b[0m                         Traceback (most recent call last)",
      "\u001b[0;32m<ipython-input-60-afc73f4bca49>\u001b[0m in \u001b[0;36m<module>\u001b[0;34m()\u001b[0m\n\u001b[1;32m      5\u001b[0m \u001b[0;32mif\u001b[0m \u001b[0;32mnot\u001b[0m \u001b[0mos\u001b[0m\u001b[0;34m.\u001b[0m\u001b[0mpath\u001b[0m\u001b[0;34m.\u001b[0m\u001b[0misdir\u001b[0m\u001b[0;34m(\u001b[0m\u001b[0mpath_to_images\u001b[0m\u001b[0;34m)\u001b[0m\u001b[0;34m:\u001b[0m\u001b[0;34m\u001b[0m\u001b[0m\n\u001b[1;32m      6\u001b[0m    \u001b[0mos\u001b[0m\u001b[0;34m.\u001b[0m\u001b[0mmakedirs\u001b[0m\u001b[0;34m(\u001b[0m\u001b[0mpath_to_images\u001b[0m\u001b[0;34m)\u001b[0m\u001b[0;34m\u001b[0m\u001b[0m\n\u001b[0;32m----> 7\u001b[0;31m \u001b[0mextractImages\u001b[0m\u001b[0;34m(\u001b[0m\u001b[0minput_video_path\u001b[0m\u001b[0;34m,\u001b[0m\u001b[0mpath_to_images\u001b[0m\u001b[0;34m)\u001b[0m\u001b[0;34m\u001b[0m\u001b[0m\n\u001b[0m",
      "\u001b[0;32m<ipython-input-59-afb2304cb641>\u001b[0m in \u001b[0;36mextractImages\u001b[0;34m(pathIn, pathOut)\u001b[0m\n\u001b[1;32m     11\u001b[0m         \u001b[0mprev_counter\u001b[0m \u001b[0;34m=\u001b[0m \u001b[0mcounter\u001b[0m\u001b[0;34m\u001b[0m\u001b[0m\n\u001b[1;32m     12\u001b[0m         \u001b[0mextracted_frame_loc\u001b[0m \u001b[0;34m=\u001b[0m \u001b[0mos\u001b[0m\u001b[0;34m.\u001b[0m\u001b[0mpath\u001b[0m\u001b[0;34m.\u001b[0m\u001b[0mjoin\u001b[0m\u001b[0;34m(\u001b[0m\u001b[0mpathOut\u001b[0m\u001b[0;34m,\u001b[0m\u001b[0;34m'frame'\u001b[0m\u001b[0;34m+\u001b[0m\u001b[0mstr\u001b[0m\u001b[0;34m(\u001b[0m\u001b[0mcounter\u001b[0m\u001b[0;34m)\u001b[0m\u001b[0;34m+\u001b[0m\u001b[0;34m'.jpg'\u001b[0m\u001b[0;34m)\u001b[0m\u001b[0;34m\u001b[0m\u001b[0m\n\u001b[0;32m---> 13\u001b[0;31m         \u001b[0mvidcap\u001b[0m\u001b[0;34m.\u001b[0m\u001b[0mset\u001b[0m\u001b[0;34m(\u001b[0m\u001b[0mcv2\u001b[0m\u001b[0;34m.\u001b[0m\u001b[0mCAP_PROP_POS_FRAMES\u001b[0m\u001b[0;34m,\u001b[0m\u001b[0mframe_num\u001b[0m\u001b[0;34m)\u001b[0m    \u001b[0;31m# added this line\u001b[0m\u001b[0;34m\u001b[0m\u001b[0m\n\u001b[0m\u001b[1;32m     14\u001b[0m         \u001b[0msuccess\u001b[0m\u001b[0;34m,\u001b[0m\u001b[0mimage\u001b[0m \u001b[0;34m=\u001b[0m \u001b[0mvidcap\u001b[0m\u001b[0;34m.\u001b[0m\u001b[0mread\u001b[0m\u001b[0;34m(\u001b[0m\u001b[0;34m)\u001b[0m\u001b[0;34m\u001b[0m\u001b[0m\n\u001b[1;32m     15\u001b[0m         \u001b[0;32mif\u001b[0m \u001b[0msuccess\u001b[0m \u001b[0;32mor\u001b[0m \u001b[0mcounter_err\u001b[0m \u001b[0;34m>\u001b[0m \u001b[0;36m2\u001b[0m\u001b[0;34m:\u001b[0m\u001b[0;34m\u001b[0m\u001b[0m\n",
      "\u001b[0;31mKeyboardInterrupt\u001b[0m: "
     ]
    }
   ],
   "source": [
    "dest_dir = '/Users/prateek/Downloads/Datasets/HAMS'\n",
    "input_video_file = 'IIITJn2.MP4'\n",
    "input_video_path = 'IIITJn2.MP4'\n",
    "path_to_images = os.path.join(dest_dir,input_video_file.split('.MP4')[0])\n",
    "if not os.path.isdir(path_to_images):\n",
    "   os.makedirs(path_to_images)\n",
    "extractImages(input_video_path,path_to_images)"
   ]
  },
  {
   "cell_type": "code",
   "execution_count": null,
   "metadata": {},
   "outputs": [],
   "source": [
    "cv2.CV__CA"
   ]
  }
 ],
 "metadata": {
  "kernelspec": {
   "display_name": "Python 3",
   "language": "python",
   "name": "python3"
  },
  "language_info": {
   "codemirror_mode": {
    "name": "ipython",
    "version": 3
   },
   "file_extension": ".py",
   "mimetype": "text/x-python",
   "name": "python",
   "nbconvert_exporter": "python",
   "pygments_lexer": "ipython3",
   "version": "3.5.5"
  },
  "widgets": {
   "state": {},
   "version": "1.1.2"
  }
 },
 "nbformat": 4,
 "nbformat_minor": 2
}
