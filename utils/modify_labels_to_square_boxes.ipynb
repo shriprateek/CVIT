{
 "cells": [
  {
   "cell_type": "code",
   "execution_count": 1,
   "metadata": {},
   "outputs": [],
   "source": [
    "import json\n",
    "import os,fnmatch"
   ]
  },
  {
   "cell_type": "code",
   "execution_count": 2,
   "metadata": {},
   "outputs": [],
   "source": [
    "def poly2bb(polygon):\n",
    "    xs = []\n",
    "    ys = []\n",
    "    for i in range(len(polygon)):\n",
    "        xs.append(polygon[i][0])\n",
    "        ys.append(polygon[i][1])\n",
    "    bb = [[min(xs),min(ys)],[max(xs),min(ys)],[max(xs),max(ys)],[min(xs),max(ys)]]\n",
    "    return bb"
   ]
  },
  {
   "cell_type": "code",
   "execution_count": 3,
   "metadata": {},
   "outputs": [],
   "source": [
    "ts_data = '/home/prateek/work/tsd/indian_tsd/' \n",
    "polygons = []\n",
    "paths = []\n",
    "ts_gtFine_new_dir = '/home/prateek/work/tsd/indian_tsd/gtFine_new/train/'\n",
    "if not os.path.exists(ts_gtFine_new_dir):\n",
    "    os.makedirs(ts_gtFine_new_dir)"
   ]
  },
  {
   "cell_type": "code",
   "execution_count": 4,
   "metadata": {},
   "outputs": [],
   "source": [
    "   \n",
    "for root, dirnames, filenames in os.walk(ts_data):\n",
    "    for filename in fnmatch.filter(filenames, '*.png'):\n",
    "        json_folder_name = root.split('leftImg8bit/train/')[1]\n",
    "        json_file_number = filename.split('_leftImg8bit')[0]\n",
    "        json_file_name = json_file_number + '_gtFine_polygons.json'\n",
    "        json_path = root.split('leftImg8bit/train/')[0] + 'gtFine/train/'+ json_folder_name + '/' + json_file_name\n",
    "        \n",
    "        json_path2_folder = root.split('leftImg8bit/train/')[0] + 'gtFine_new/train/'+ json_folder_name\n",
    "        if not os.path.exists(json_path2_folder):\n",
    "            os.makedirs(json_path2_folder)\n",
    "        json_path2 = root.split('leftImg8bit/train/')[0] + 'gtFine_new/train/'+ json_folder_name + '/' + json_file_name\n",
    "        \n",
    "        try:\n",
    "            jsonFile = open(json_path, \"r\")\n",
    "            json_data = json.load(jsonFile)\n",
    "            jsonFile.close()\n",
    "            objects = (json_data[\"objects\"])\n",
    "\n",
    "            for index,obj in enumerate(objects):\n",
    "                if obj[\"label\"] == \"traffic sign\":\n",
    "                    poly = json_data[\"objects\"][index][\"polygon\"]\n",
    "                    json_data[\"objects\"][index][\"polygon\"] = poly2bb(poly)\n",
    "\n",
    "            jsonFile = open(json_path2, \"w+\")\n",
    "            jsonFile.write(json.dumps(json_data,indent = 4))\n",
    "            jsonFile.close()\n",
    "        \n",
    "        except:\n",
    "            continue"
   ]
  }
 ],
 "metadata": {
  "kernelspec": {
   "display_name": "Python 3",
   "language": "python",
   "name": "python3"
  },
  "language_info": {
   "codemirror_mode": {
    "name": "ipython",
    "version": 3
   },
   "file_extension": ".py",
   "mimetype": "text/x-python",
   "name": "python",
   "nbconvert_exporter": "python",
   "pygments_lexer": "ipython3",
   "version": "3.5.5"
  }
 },
 "nbformat": 4,
 "nbformat_minor": 2
}
