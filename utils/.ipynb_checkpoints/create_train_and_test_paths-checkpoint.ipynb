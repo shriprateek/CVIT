{
 "cells": [
  {
   "cell_type": "code",
   "execution_count": 1,
   "metadata": {},
   "outputs": [
    {
     "name": "stdout",
     "output_type": "stream",
     "text": [
      "/home/prateek/work/tsd/training_set_demo\n"
     ]
    }
   ],
   "source": [
    "import os,fnmatch\n",
    "\n",
    "# Current directory\n",
    "training_set = \"/home/prateek/work/tsd/training_set_demo\"\n",
    "print(training_set)"
   ]
  },
  {
   "cell_type": "code",
   "execution_count": 2,
   "metadata": {},
   "outputs": [],
   "source": [
    "\n",
    "# Directory where the data will reside, relative to 'darknet.exe'\n",
    "path_data = '/home/prateek/work/tsd/darknet/data/obj'\n",
    "\n",
    "# Percentage of images to be used for the test set\n",
    "percentage_test = 10;\n",
    "\n",
    "# Create and/or truncate train.txt and test.txt\n",
    "file_train = open('/home/prateek/work/tsd/darknet/demo_training_set_images.txt', 'w')  \n",
    "file_test = open('/home/prateek/work/tsd/darknet/demo_test_set_images.txt', 'w')\n",
    "\n",
    "# Populate train.txt and test.txt\n",
    "counter = 1  \n",
    "index_test = round(100 / percentage_test)  \n",
    "for root, dirnames, filenames in os.walk(training_set):\n",
    "    for filename in fnmatch.filter(filenames, '*.png'):\n",
    "        if counter == index_test:\n",
    "            counter = 1\n",
    "            #file_test.write('/Neutron7/prateek.s/training_set/' + str(filename) + \"\\n\")\n",
    "            file_test.write('/home/prateek/work/tsd/training_set/' + str(filename) + \"\\n\")\n",
    "        else:\n",
    "            #file_train.write('/Neutron7/prateek.s/training_set/' + str(filename) + \"\\n\")\n",
    "            file_train.write('/home/prateek/work/tsd/training_set/' + str(filename) + \"\\n\")\n",
    "            counter = counter + 1\n",
    "\n",
    "file_train.close()\n",
    "file_test.close()\n"
   ]
  },
  {
   "cell_type": "code",
   "execution_count": null,
   "metadata": {},
   "outputs": [],
   "source": []
  }
 ],
 "metadata": {
  "kernelspec": {
   "display_name": "Python 3",
   "language": "python",
   "name": "python3"
  },
  "language_info": {
   "codemirror_mode": {
    "name": "ipython",
    "version": 3
   },
   "file_extension": ".py",
   "mimetype": "text/x-python",
   "name": "python",
   "nbconvert_exporter": "python",
   "pygments_lexer": "ipython3",
   "version": "3.6.5"
  }
 },
 "nbformat": 4,
 "nbformat_minor": 2
}
