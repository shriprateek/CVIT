{
 "cells": [
  {
   "cell_type": "code",
   "execution_count": 8,
   "metadata": {},
   "outputs": [],
   "source": [
    "import json #to parse json file\n",
    "import os #to walk through directories\n",
    "import fnmatch #to match file names\n",
    "import shutil #to copy data directories"
   ]
  },
  {
   "cell_type": "code",
   "execution_count": 9,
   "metadata": {},
   "outputs": [],
   "source": [
    "desired_object = 'traffic sign'\n",
    "\n",
    "ts_gtFine_dir = '/home/prateek/work/tsd/indian_tsd/gtFine/train/'\n",
    "\n",
    "ts_leftImg8bit_dir = '/home/prateek/work/tsd/indian_tsd/leftImg8bit/train/'\n",
    "\n",
    "indian_data_dir = '/home/prateek/work/Indian_cityscapes'\n",
    "\n",
    "if not os.path.exists(ts_gtFine_dir):\n",
    "    os.makedirs(ts_gtFine_dir)\n",
    "\n",
    "if not os.path.exists(ts_leftImg8bit_dir):\n",
    "    os.makedirs(ts_leftImg8bit_dir)"
   ]
  },
  {
   "cell_type": "code",
   "execution_count": null,
   "metadata": {},
   "outputs": [],
   "source": [
    "for root, dirnames, filenames in os.walk(indian_data_dir):\n",
    "    for filename in fnmatch.filter(filenames, '*.json'):\n",
    "        json_file = os.path.join(root,filename)\n",
    "        try:\n",
    "            json_data = json.loads(open(json_file).read())\n",
    "        except:\n",
    "            continue\n",
    "        objects = (json_data['objects'])\n",
    "        labels = []\n",
    "        for o in objects:\n",
    "            labels.append(o['label'])\n",
    "            \n",
    "        if desired_object in labels:\n",
    "            num_ts_images = num_ts_images + 1\n",
    "            folder_name = root.split('gtFine/train/')[1]\n",
    "            file_number = filename.split('_gtFine')[0]\n",
    "            image = file_number + '_leftImg8bit.png'\n",
    "            image_path = root.split('gtFine/train/')[0] + 'leftImg8bit/train/'+ folder_name + '/' + image\n",
    "            if not os.path.exists(ts_gtFine_dir + folder_name):\n",
    "                os.makedirs(ts_gtFine_dir + folder_name)\n",
    "            if not os.path.exists(ts_leftImg8bit_dir + folder_name):\n",
    "                os.makedirs(ts_leftImg8bit_dir + folder_name)\n",
    "            shutil.copy(json_file,(ts_gtFine_dir + folder_name))\n",
    "            if os.path.exists(image_path):\n",
    "                shutil.copy(image_path,(ts_leftImg8bit_dir + folder_name))"
   ]
  },
  {
   "cell_type": "code",
   "execution_count": null,
   "metadata": {},
   "outputs": [],
   "source": []
  }
 ],
 "metadata": {
  "kernelspec": {
   "display_name": "Python 3",
   "language": "python",
   "name": "python3"
  },
  "language_info": {
   "codemirror_mode": {
    "name": "ipython",
    "version": 3
   },
   "file_extension": ".py",
   "mimetype": "text/x-python",
   "name": "python",
   "nbconvert_exporter": "python",
   "pygments_lexer": "ipython3",
   "version": "3.6.5"
  }
 },
 "nbformat": 4,
 "nbformat_minor": 2
}
