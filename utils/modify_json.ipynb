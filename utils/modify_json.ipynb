{
 "cells": [
  {
   "cell_type": "code",
   "execution_count": 123,
   "metadata": {},
   "outputs": [],
   "source": [
    "import json"
   ]
  },
  {
   "cell_type": "code",
   "execution_count": 124,
   "metadata": {},
   "outputs": [],
   "source": [
    "def poly2rect(polygon):\n",
    "    xs = []\n",
    "    ys = []\n",
    "    for i in range(len(polygon)):\n",
    "        xs.append(float(polygon[i][0]))\n",
    "        ys.append(float(polygon[i][1]))\n",
    "    rect = [[min(xs),min(ys)],[max(xs),max(ys)]]\n",
    "    return rect\n",
    "\n",
    "def poly2bb(polygon):\n",
    "    xs = []\n",
    "    ys = []\n",
    "    for i in range(len(polygon)):\n",
    "        xs.append(polygon[i][0])\n",
    "        ys.append(polygon[i][1])\n",
    "    bb = [[min(xs),min(ys)],[max(xs),min(ys)],[max(xs),max(ys)],[min(xs),max(ys)]]\n",
    "    return bb\n",
    "\n",
    "def convert2yoloformat(size, rect):\n",
    "    dw = 1./size[0]\n",
    "    dh = 1./size[1]\n",
    "    x = (rect[0][0] + rect[1][0])/2.0\n",
    "    y = (rect[0][1] + rect[1][1])/2.0\n",
    "    w = rect[1][0] - rect[0][0]\n",
    "    h = rect[1][1] - rect[0][1]\n",
    "    x = x*dw\n",
    "    w = w*dw\n",
    "    y = y*dh\n",
    "    h = h*dh\n",
    "    return (x,y,w,h)"
   ]
  },
  {
   "cell_type": "code",
   "execution_count": 125,
   "metadata": {},
   "outputs": [],
   "source": [
    "json_path =  \"/home/prateek/work/tsd/Temp_cityscapes/0001512_gtFine_polygons.json\"\n",
    "jsonFile = open(json_path, \"r\")\n",
    "json_data = json.load(jsonFile)\n",
    "jsonFile.close()\n",
    "\n",
    "yolo_label_txt_path = \"/home/prateek/work/tsd/Temp_cityscapes/0001512_gtFine_polygons.txt\"\n",
    "labelFile = open(yolo_label_txt_path,'w+')"
   ]
  },
  {
   "cell_type": "code",
   "execution_count": 126,
   "metadata": {},
   "outputs": [],
   "source": [
    "train_id = 7#for traffic signs in labels.py\n",
    "objects = json_data[\"objects\"]\n",
    "image_width = json_data[\"imgWidth\"]\n",
    "image_height = json_data[\"imgHeight\"]\n",
    "\n",
    "image_size = [image_width,image_height]\n",
    "\n",
    "for index,obj in enumerate(objects):\n",
    "    if obj[\"label\"] == \"traffic sign\":\n",
    "        poly = json_data[\"objects\"][index][\"polygon\"]\n",
    "        \n",
    "        bb = poly2bb(poly)\n",
    "        json_data[\"objects\"][index][\"polygon\"] = bb\n",
    "        \n",
    "        rect = poly2rect(poly)\n",
    "        yolo_data = convert2yoloformat(image_size,rect)\n",
    "        labelFile.write(str(train_id)+ \" \"+ \" \".join(str(a) for a in yolo_data) +\"\\n\")\n"
   ]
  },
  {
   "cell_type": "code",
   "execution_count": 127,
   "metadata": {},
   "outputs": [
    {
     "name": "stdout",
     "output_type": "stream",
     "text": [
      "(0.2545072115384615, 0.48504273504273504, 0.03305288461538461, 0.053418803418803354)\n"
     ]
    }
   ],
   "source": [
    "jsonFile = open(json_path, \"w+\")\n",
    "jsonFile.write(json.dumps(json_data,indent = 4))\n",
    "jsonFile.close()\n",
    "labelFile.close()"
   ]
  }
 ],
 "metadata": {
  "kernelspec": {
   "display_name": "Python 3",
   "language": "python",
   "name": "python3"
  },
  "language_info": {
   "codemirror_mode": {
    "name": "ipython",
    "version": 3
   },
   "file_extension": ".py",
   "mimetype": "text/x-python",
   "name": "python",
   "nbconvert_exporter": "python",
   "pygments_lexer": "ipython3",
   "version": "3.6.1"
  }
 },
 "nbformat": 4,
 "nbformat_minor": 2
}
