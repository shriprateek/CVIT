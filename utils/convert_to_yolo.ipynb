{
 "cells": [
  {
   "cell_type": "code",
   "execution_count": 1,
   "metadata": {},
   "outputs": [],
   "source": [
    "import json #to parse json file\n",
    "import os #to walk through directories\n",
    "import fnmatch #to match file names\n",
    "import shutil #to copy data directories"
   ]
  },
  {
   "cell_type": "code",
   "execution_count": 2,
   "metadata": {},
   "outputs": [],
   "source": [
    "def poly2rect(polygon):\n",
    "    xs = []\n",
    "    ys = []\n",
    "    for i in range(len(polygon)):\n",
    "        xs.append(float(polygon[i][0]))\n",
    "        ys.append(float(polygon[i][1]))\n",
    "    rect = [[min(xs),min(ys)],[max(xs),max(ys)]]\n",
    "    return rect\n",
    "\n",
    "def convert2yoloformat(size, rect):\n",
    "    dw = 1./size[0]\n",
    "    dh = 1./size[1]\n",
    "    x = (rect[0][0] + rect[1][0])/2.0\n",
    "    y = (rect[0][1] + rect[1][1])/2.0\n",
    "    w = rect[1][0] - rect[0][0]\n",
    "    h = rect[1][1] - rect[0][1]\n",
    "    x = x*dw\n",
    "    w = w*dw\n",
    "    y = y*dh\n",
    "    h = h*dh\n",
    "    return (x,y,w,h)"
   ]
  },
  {
   "cell_type": "code",
   "execution_count": 3,
   "metadata": {},
   "outputs": [],
   "source": [
    "train_src = '/home/prateek/work/tsd/indian_tsd/' \n",
    "train_dest = '/home/prateek/work/tsd/training_set/'\n",
    "if not os.path.exists(train_dest):\n",
    "    os.makedirs(train_dest)\n",
    "train_id = 0\n"
   ]
  },
  {
   "cell_type": "code",
   "execution_count": 4,
   "metadata": {},
   "outputs": [],
   "source": [
    "   \n",
    "for root, dirnames, filenames in os.walk(train_src):\n",
    "    for filename in fnmatch.filter(filenames, '*.png'):\n",
    "        json_folder_name = root.split('leftImg8bit/train/')[1]\n",
    "        json_file_number = filename.split('_leftImg8bit')[0]\n",
    "        json_file_name = json_file_number + '_gtFine_polygons.json'\n",
    "        json_path = root.split('leftImg8bit/train/')[0] + 'gtFine/train/'+ json_folder_name + '/' + json_file_name\n",
    "        #shutil.copy(os.path.join(root,filename),train_dest)\n",
    "        yolo_label_txt_path = train_dest + filename.replace('png','txt')\n",
    "        labelFile = open(yolo_label_txt_path,'w+')\n",
    "        try:\n",
    "            jsonFile = open(json_path, \"r\")\n",
    "            json_data = json.load(jsonFile)\n",
    "            jsonFile.close()\n",
    "            objects = json_data[\"objects\"]\n",
    "            image_width = json_data[\"imgWidth\"]\n",
    "            image_height = json_data[\"imgHeight\"]\n",
    "            image_size = [image_width,image_height]\n",
    "            for index,obj in enumerate(objects):\n",
    "                if obj[\"label\"] == \"traffic sign\":\n",
    "                    poly = json_data[\"objects\"][index][\"polygon\"]\n",
    "                    rect = poly2rect(poly)\n",
    "                    yolo_data = convert2yoloformat(image_size,rect)\n",
    "                    labelFile.write(str(train_id)+ \" \"+ \" \".join(str(a) for a in yolo_data) +\"\\n\")\n",
    "        except:\n",
    "            continue\n",
    "        labelFile.close()        \n"
   ]
  },
  {
   "cell_type": "code",
   "execution_count": null,
   "metadata": {},
   "outputs": [],
   "source": []
  }
 ],
 "metadata": {
  "kernelspec": {
   "display_name": "Python 3",
   "language": "python",
   "name": "python3"
  },
  "language_info": {
   "codemirror_mode": {
    "name": "ipython",
    "version": 3
   },
   "file_extension": ".py",
   "mimetype": "text/x-python",
   "name": "python",
   "nbconvert_exporter": "python",
   "pygments_lexer": "ipython3",
   "version": "3.5.5"
  }
 },
 "nbformat": 4,
 "nbformat_minor": 2
}
